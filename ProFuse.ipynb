{
  "nbformat": 4,
  "nbformat_minor": 0,
  "metadata": {
    "colab": {
      "provenance": []
    },
    "kernelspec": {
      "name": "python3",
      "display_name": "Python 3"
    },
    "language_info": {
      "name": "python"
    }
  },
  "cells": [
    {
      "cell_type": "code",
      "source": [
        "# Install MDTraj in Colab\n",
        "!pip install mdtraj\n",
        "\n",
        "# Import necessary libraries\n",
        "import mdtraj as md\n",
        "import numpy as np\n",
        "\n",
        "# Load the PDB files\n",
        "pdb1 = md.load('protein1.pdb')  # This will be the first structure\n",
        "pdb2 = md.load('protein2.pdb')             # This will be fused to the C-terminal of pdb1\n",
        "\n",
        "# Extract topologies, coordinates, and relevant information\n",
        "top1, xyz1 = pdb1.top, pdb1.xyz\n",
        "top2, xyz2 = pdb2.top, pdb2.xyz\n",
        "\n",
        "# Get the coordinates of the C-terminal of pdb1 and the N-terminal of pdb2\n",
        "# Assuming the last residue of pdb1 and the first residue of pdb2 for fusion\n",
        "c_terminal_coords = xyz1[0, -1]  # Coordinates of the last atom of pdb1\n",
        "n_terminal_coords = xyz2[0, 0]   # Coordinates of the first atom of pdb2\n",
        "\n",
        "# Calculate the translation vector to align pdb2's N-terminal to pdb1's C-terminal\n",
        "translation_vector = c_terminal_coords - n_terminal_coords\n",
        "\n",
        "# Apply the translation to pdb2 so it aligns at the C-terminal of pdb1\n",
        "xyz2_translated = xyz2 + translation_vector\n",
        "\n",
        "# Concatenate the topologies and coordinates (fused structure)\n",
        "top_combined = top1.join(top2)\n",
        "xyz_combined = np.concatenate((xyz1, xyz2_translated), axis=1)\n",
        "\n",
        "# Create a new trajectory object with the combined data\n",
        "pdb_combined = md.Trajectory(xyz=xyz_combined, topology=top_combined)\n",
        "\n",
        "# Save the combined PDB file\n",
        "pdb_combined.save('fused_protein.pdb')\n",
        "\n",
        "# Download the fused PDB file\n",
        "from google.colab import files\n",
        "files.download('fused_protein.pdb')\n"
      ],
      "metadata": {
        "colab": {
          "base_uri": "https://localhost:8080/",
          "height": 160
        },
        "id": "YSpq8ZGwPX7e",
        "outputId": "25bbce45-393f-4ce8-e4c8-fdb14bfd7bc2"
      },
      "execution_count": 2,
      "outputs": [
        {
          "output_type": "stream",
          "name": "stdout",
          "text": [
            "Requirement already satisfied: mdtraj in /usr/local/lib/python3.10/dist-packages (1.10.0)\n",
            "Requirement already satisfied: numpy<2.0.0a0,>=1.23 in /usr/local/lib/python3.10/dist-packages (from mdtraj) (1.26.4)\n",
            "Requirement already satisfied: scipy in /usr/local/lib/python3.10/dist-packages (from mdtraj) (1.13.1)\n",
            "Requirement already satisfied: astunparse in /usr/local/lib/python3.10/dist-packages (from mdtraj) (1.6.3)\n",
            "Requirement already satisfied: pyparsing in /usr/local/lib/python3.10/dist-packages (from mdtraj) (3.1.4)\n",
            "Requirement already satisfied: packaging in /usr/local/lib/python3.10/dist-packages (from mdtraj) (24.1)\n",
            "Requirement already satisfied: wheel<1.0,>=0.23.0 in /usr/local/lib/python3.10/dist-packages (from astunparse->mdtraj) (0.44.0)\n",
            "Requirement already satisfied: six<2.0,>=1.6.1 in /usr/local/lib/python3.10/dist-packages (from astunparse->mdtraj) (1.16.0)\n"
          ]
        },
        {
          "output_type": "display_data",
          "data": {
            "text/plain": [
              "<IPython.core.display.Javascript object>"
            ],
            "application/javascript": [
              "\n",
              "    async function download(id, filename, size) {\n",
              "      if (!google.colab.kernel.accessAllowed) {\n",
              "        return;\n",
              "      }\n",
              "      const div = document.createElement('div');\n",
              "      const label = document.createElement('label');\n",
              "      label.textContent = `Downloading \"${filename}\": `;\n",
              "      div.appendChild(label);\n",
              "      const progress = document.createElement('progress');\n",
              "      progress.max = size;\n",
              "      div.appendChild(progress);\n",
              "      document.body.appendChild(div);\n",
              "\n",
              "      const buffers = [];\n",
              "      let downloaded = 0;\n",
              "\n",
              "      const channel = await google.colab.kernel.comms.open(id);\n",
              "      // Send a message to notify the kernel that we're ready.\n",
              "      channel.send({})\n",
              "\n",
              "      for await (const message of channel.messages) {\n",
              "        // Send a message to notify the kernel that we're ready.\n",
              "        channel.send({})\n",
              "        if (message.buffers) {\n",
              "          for (const buffer of message.buffers) {\n",
              "            buffers.push(buffer);\n",
              "            downloaded += buffer.byteLength;\n",
              "            progress.value = downloaded;\n",
              "          }\n",
              "        }\n",
              "      }\n",
              "      const blob = new Blob(buffers, {type: 'application/binary'});\n",
              "      const a = document.createElement('a');\n",
              "      a.href = window.URL.createObjectURL(blob);\n",
              "      a.download = filename;\n",
              "      div.appendChild(a);\n",
              "      a.click();\n",
              "      div.remove();\n",
              "    }\n",
              "  "
            ]
          },
          "metadata": {}
        },
        {
          "output_type": "display_data",
          "data": {
            "text/plain": [
              "<IPython.core.display.Javascript object>"
            ],
            "application/javascript": [
              "download(\"download_4e0caade-5478-446a-95d6-25b25c17ac52\", \"fused_protein.pdb\", 301400)"
            ]
          },
          "metadata": {}
        }
      ]
    },
    {
      "cell_type": "code",
      "source": [],
      "metadata": {
        "id": "tkKhliFAPY_q"
      },
      "execution_count": null,
      "outputs": []
    }
  ]
}